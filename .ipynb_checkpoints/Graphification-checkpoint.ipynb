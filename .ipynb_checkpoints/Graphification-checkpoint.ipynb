{
 "cells": [
  {
   "cell_type": "code",
   "execution_count": 1,
   "metadata": {
    "collapsed": false
   },
   "outputs": [],
   "source": [
    "import numpy as np\n",
    "import pandas as pd\n",
    "import matplotlib.pyplot as plt\n",
    "%matplotlib inline\n",
    "np.random.seed(1234)\n",
    "\n",
    "from pprint import pprint"
   ]
  },
  {
   "cell_type": "code",
   "execution_count": 2,
   "metadata": {
    "collapsed": false
   },
   "outputs": [],
   "source": [
    "with open(\"sp500Dirs.csv\", \"r\") as f:\n",
    "    sp500Dirs = {}\n",
    "    for line in f.readlines():\n",
    "        line = line.split(\"\\n\")[0].split(\",\")\n",
    "        sp500Dirs[line[0]] = set(line[1:])"
   ]
  },
  {
   "cell_type": "code",
   "execution_count": 3,
   "metadata": {
    "collapsed": false
   },
   "outputs": [
    {
     "data": {
      "text/plain": [
       "{'David B Dillon \"Dave\"',\n",
       " 'Edward M Liddy \"Ed\"',\n",
       " 'Gregory R Page \"Greg\"',\n",
       " 'Herbert L Henkel \"Herb\"',\n",
       " 'Inge G Thulin',\n",
       " 'Michael L Eskew \"Mike\"',\n",
       " 'Muhtar Kent',\n",
       " 'Patricia Ann Woertz',\n",
       " 'Robert J Ulrich',\n",
       " 'Sondra L Barbour',\n",
       " 'Thomas K Brown \"Tony\"',\n",
       " 'Vance D Coffman'}"
      ]
     },
     "execution_count": 3,
     "metadata": {},
     "output_type": "execute_result"
    }
   ],
   "source": [
    "sp500Dirs[\"MMM\"]"
   ]
  },
  {
   "cell_type": "code",
   "execution_count": 4,
   "metadata": {
    "collapsed": false
   },
   "outputs": [],
   "source": [
    "with open(\"sp500Execs.csv\", \"r\") as f:\n",
    "    sp500Execs = {}\n",
    "    for line in f.readlines():\n",
    "        line = line.split(\"\\n\")[0].split(\",\")\n",
    "        sp500Execs[line[0]] = set(line[1:])"
   ]
  },
  {
   "cell_type": "code",
   "execution_count": 5,
   "metadata": {
    "collapsed": false
   },
   "outputs": [],
   "source": [
    "with open(\"tick2comp.csv\", \"r\") as f:\n",
    "    tick2comp = {}\n",
    "    for line in f.readlines():\n",
    "        line = line.split(\"\\n\")[0].split(\",\")\n",
    "        tick2comp[line[0]] = \",\".join(line[1:])"
   ]
  },
  {
   "cell_type": "code",
   "execution_count": 6,
   "metadata": {
    "collapsed": false
   },
   "outputs": [
    {
     "data": {
      "text/plain": [
       "'Essex Property Trust, Inc.'"
      ]
     },
     "execution_count": 6,
     "metadata": {},
     "output_type": "execute_result"
    }
   ],
   "source": [
    "tick2comp[\"ESS\"]"
   ]
  },
  {
   "cell_type": "code",
   "execution_count": 7,
   "metadata": {
    "collapsed": false
   },
   "outputs": [
    {
     "data": {
      "text/plain": [
       "'Facebook, Inc.'"
      ]
     },
     "execution_count": 7,
     "metadata": {},
     "output_type": "execute_result"
    }
   ],
   "source": [
    "tick2comp[\"FB\"]"
   ]
  },
  {
   "cell_type": "code",
   "execution_count": 8,
   "metadata": {
    "collapsed": true
   },
   "outputs": [],
   "source": [
    "comps = list(tick2comp.keys())"
   ]
  },
  {
   "cell_type": "code",
   "execution_count": 9,
   "metadata": {
    "collapsed": true
   },
   "outputs": [],
   "source": [
    "tmp = sp500Dirs[comps[0]]"
   ]
  },
  {
   "cell_type": "code",
   "execution_count": 10,
   "metadata": {
    "collapsed": false
   },
   "outputs": [
    {
     "data": {
      "text/plain": [
       "set"
      ]
     },
     "execution_count": 10,
     "metadata": {},
     "output_type": "execute_result"
    }
   ],
   "source": [
    "type(tmp)"
   ]
  },
  {
   "cell_type": "code",
   "execution_count": 11,
   "metadata": {
    "collapsed": false
   },
   "outputs": [
    {
     "data": {
      "text/plain": [
       "{'David B Dillon \"Dave\"',\n",
       " 'Edward M Liddy \"Ed\"',\n",
       " 'Gregory R Page \"Greg\"',\n",
       " 'Herbert L Henkel \"Herb\"',\n",
       " 'Inge G Thulin',\n",
       " 'Michael L Eskew \"Mike\"',\n",
       " 'Muhtar Kent',\n",
       " 'Patricia Ann Woertz',\n",
       " 'Robert J Ulrich',\n",
       " 'Sondra L Barbour',\n",
       " 'Thomas K Brown \"Tony\"',\n",
       " 'Vance D Coffman'}"
      ]
     },
     "execution_count": 11,
     "metadata": {},
     "output_type": "execute_result"
    }
   ],
   "source": [
    "tmp"
   ]
  },
  {
   "cell_type": "code",
   "execution_count": 12,
   "metadata": {
    "collapsed": false
   },
   "outputs": [
    {
     "data": {
      "text/plain": [
       "[(0, 'Edward M Liddy \"Ed\"'),\n",
       " (1, 'Sondra L Barbour'),\n",
       " (2, 'Patricia Ann Woertz'),\n",
       " (3, 'Muhtar Kent'),\n",
       " (4, 'Thomas K Brown \"Tony\"'),\n",
       " (5, 'Michael L Eskew \"Mike\"'),\n",
       " (6, 'Vance D Coffman'),\n",
       " (7, 'Herbert L Henkel \"Herb\"'),\n",
       " (8, 'Inge G Thulin'),\n",
       " (9, 'David B Dillon \"Dave\"'),\n",
       " (10, 'Robert J Ulrich'),\n",
       " (11, 'Gregory R Page \"Greg\"')]"
      ]
     },
     "execution_count": 12,
     "metadata": {},
     "output_type": "execute_result"
    }
   ],
   "source": [
    "list(enumerate(tmp))"
   ]
  },
  {
   "cell_type": "code",
   "execution_count": 13,
   "metadata": {
    "collapsed": false
   },
   "outputs": [
    {
     "data": {
      "text/plain": [
       "{'Edward M Liddy \"Ed\"'}"
      ]
     },
     "execution_count": 13,
     "metadata": {},
     "output_type": "execute_result"
    }
   ],
   "source": [
    "tmp.intersection(sp500Dirs[comps[2]])"
   ]
  },
  {
   "cell_type": "code",
   "execution_count": 14,
   "metadata": {
    "collapsed": false
   },
   "outputs": [
    {
     "data": {
      "text/plain": [
       "{'Ashish K Khandpur',\n",
       " 'Bruce Jermeland',\n",
       " 'David B Dillon \"Dave\"',\n",
       " 'Edward M Liddy \"Ed\"',\n",
       " 'Frank R Little',\n",
       " 'Gregg M Larson',\n",
       " 'Gregory R Page \"Greg\"',\n",
       " 'Hak Cheol Shin',\n",
       " 'Herbert L Henkel \"Herb\"',\n",
       " 'Inge G Thulin',\n",
       " 'Ivan K Fong',\n",
       " 'James L Bauman \"Jim\"',\n",
       " 'Joaquin Delgado',\n",
       " 'Jon T Lindekugel',\n",
       " 'Julie L Bushman',\n",
       " 'Kimberly F Price \"Kim\"',\n",
       " 'Marlene M McGrath',\n",
       " 'Michael F Roman',\n",
       " 'Michael G Vale',\n",
       " 'Michael L Eskew \"Mike\"',\n",
       " 'Muhtar Kent',\n",
       " 'Nicholas C Gangestad \"Nick\"',\n",
       " 'Patricia Ann Woertz',\n",
       " 'Paul A Keel',\n",
       " 'Robert J Ulrich',\n",
       " 'Sondra L Barbour',\n",
       " 'Thomas K Brown \"Tony\"',\n",
       " 'Vance D Coffman'}"
      ]
     },
     "execution_count": 14,
     "metadata": {},
     "output_type": "execute_result"
    }
   ],
   "source": [
    "tmp.union(sp500Execs[comps[0]])"
   ]
  },
  {
   "cell_type": "code",
   "execution_count": 15,
   "metadata": {
    "collapsed": false
   },
   "outputs": [
    {
     "name": "stdout",
     "output_type": "stream",
     "text": [
      "{'Gregg M Larson', 'Sondra L Barbour', 'Muhtar Kent', 'Ashish K Khandpur', 'Thomas K Brown \"Tony\"', 'Michael L Eskew \"Mike\"', 'Vance D Coffman', 'Frank R Little', 'Inge G Thulin', 'James L Bauman \"Jim\"', 'Jon T Lindekugel', 'Marlene M McGrath', 'David B Dillon \"Dave\"', 'Robert J Ulrich', 'Hak Cheol Shin', 'Joaquin Delgado', 'Edward M Liddy \"Ed\"', 'Julie L Bushman', 'Nicholas C Gangestad \"Nick\"', 'Patricia Ann Woertz', 'Paul A Keel', 'Bruce Jermeland', 'Herbert L Henkel \"Herb\"', 'Ivan K Fong', 'Michael F Roman', 'Michael G Vale', 'Kimberly F Price \"Kim\"', 'Gregory R Page \"Greg\"'}\n"
     ]
    }
   ],
   "source": [
    "graph = {}\n",
    "for i,tick in enumerate(comps):\n",
    "    people = sp500Dirs[tick].union(sp500Execs[tick])\n",
    "    print(people)\n",
    "    break"
   ]
  }
 ],
 "metadata": {
  "kernelspec": {
   "display_name": "Python 3",
   "language": "python",
   "name": "python3"
  },
  "language_info": {
   "codemirror_mode": {
    "name": "ipython",
    "version": 3
   },
   "file_extension": ".py",
   "mimetype": "text/x-python",
   "name": "python",
   "nbconvert_exporter": "python",
   "pygments_lexer": "ipython3",
   "version": "3.6.0"
  }
 },
 "nbformat": 4,
 "nbformat_minor": 2
}
