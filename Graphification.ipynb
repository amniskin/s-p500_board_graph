{
 "cells": [
  {
   "cell_type": "code",
   "execution_count": 1,
   "metadata": {
    "collapsed": false
   },
   "outputs": [],
   "source": [
    "import numpy as np\n",
    "import pandas as pd\n",
    "import matplotlib.pyplot as plt\n",
    "%matplotlib inline\n",
    "np.random.seed(1234)\n",
    "\n",
    "from pprint import pprint"
   ]
  },
  {
   "cell_type": "code",
   "execution_count": 2,
   "metadata": {
    "collapsed": false
   },
   "outputs": [],
   "source": [
    "with open(\"sp500Dirs.csv\", \"r\") as f:\n",
    "    sp500Dirs = {}\n",
    "    for line in f.readlines():\n",
    "        line = line.split(\"\\n\")[0].split(\",\")\n",
    "        if line[0] != \"\":\n",
    "            sp500Dirs[line[0]] = set([l.replace(\"\\\"\", \"\\'\") for l in line[1:] if l != \"\"])"
   ]
  },
  {
   "cell_type": "code",
   "execution_count": 3,
   "metadata": {
    "collapsed": false
   },
   "outputs": [
    {
     "data": {
      "text/plain": [
       "{\"David B Dillon 'Dave'\",\n",
       " \"Edward M Liddy 'Ed'\",\n",
       " \"Gregory R Page 'Greg'\",\n",
       " \"Herbert L Henkel 'Herb'\",\n",
       " 'Inge G Thulin',\n",
       " \"Michael L Eskew 'Mike'\",\n",
       " 'Muhtar Kent',\n",
       " 'Patricia Ann Woertz',\n",
       " 'Robert J Ulrich',\n",
       " 'Sondra L Barbour',\n",
       " \"Thomas K Brown 'Tony'\",\n",
       " 'Vance D Coffman'}"
      ]
     },
     "execution_count": 3,
     "metadata": {},
     "output_type": "execute_result"
    }
   ],
   "source": [
    "sp500Dirs[\"MMM\"]"
   ]
  },
  {
   "cell_type": "code",
   "execution_count": 4,
   "metadata": {
    "collapsed": false
   },
   "outputs": [],
   "source": [
    "with open(\"sp500Execs.csv\", \"r\") as f:\n",
    "    sp500Execs = {}\n",
    "    for line in f.readlines():\n",
    "        line = line.split(\"\\n\")[0].split(\",\")\n",
    "        if line[0] != \"\":\n",
    "            sp500Execs[line[0]] = set([l.replace(\"\\\"\", \"\\'\") for l in line[1:] if l != \"\"])"
   ]
  },
  {
   "cell_type": "code",
   "execution_count": 5,
   "metadata": {
    "collapsed": false
   },
   "outputs": [],
   "source": [
    "with open(\"tick2comp.csv\", \"r\") as f:\n",
    "    tick2comp = {}\n",
    "    for line in f.readlines():\n",
    "        line = line.split(\"\\n\")[0].split(\",\")\n",
    "        if line[0] != \"\":\n",
    "            tick2comp[line[0]] = \",\".join([l.replace(\"\\\"\", \"\\'\") for l in line[1:] if l != \"\"])"
   ]
  },
  {
   "cell_type": "code",
   "execution_count": 6,
   "metadata": {
    "collapsed": false
   },
   "outputs": [
    {
     "data": {
      "text/plain": [
       "'Essex Property Trust, Inc.'"
      ]
     },
     "execution_count": 6,
     "metadata": {},
     "output_type": "execute_result"
    }
   ],
   "source": [
    "tick2comp[\"ESS\"]"
   ]
  },
  {
   "cell_type": "code",
   "execution_count": 7,
   "metadata": {
    "collapsed": false
   },
   "outputs": [
    {
     "data": {
      "text/plain": [
       "'Facebook, Inc.'"
      ]
     },
     "execution_count": 7,
     "metadata": {},
     "output_type": "execute_result"
    }
   ],
   "source": [
    "tick2comp[\"FB\"]"
   ]
  },
  {
   "cell_type": "code",
   "execution_count": 8,
   "metadata": {
    "collapsed": false
   },
   "outputs": [],
   "source": [
    "company_company = {}\n",
    "company_people  = {}\n",
    "people_people   = {}\n",
    "allPeople = set([])\n",
    "comps = list(tick2comp.keys())\n",
    "\n",
    "for i,tick in enumerate(comps):\n",
    "    people = sp500Dirs[tick].union(sp500Execs[tick])\n",
    "    allPeople = allPeople.union(people)\n",
    "    for person in people:\n",
    "        key = tick + \"_\" + person\n",
    "        company_people[key] = 1\n",
    "    for tick2 in comps[i+1:]:\n",
    "        people2 = sp500Dirs[tick2].union(sp500Execs[tick2])\n",
    "        inter = people.intersection(people2)\n",
    "        if len(inter) > 0:\n",
    "            key = [tick, tick2]\n",
    "            key.sort()\n",
    "            key = \"_\".join(key)\n",
    "            company_company[key] = len(inter)\n",
    "            if len(inter) > 1:\n",
    "                inter = list(inter)\n",
    "                inter.sort()\n",
    "                for j, person1 in enumerate(inter):\n",
    "                    for person2 in inter[j+1:]:\n",
    "                        key = person1 + \"_\" + person2\n",
    "                        if key in people_people:\n",
    "                            people_people[key] += 1\n",
    "                        else:\n",
    "                            people_people[key] = 1"
   ]
  },
  {
   "cell_type": "code",
   "execution_count": 9,
   "metadata": {
    "collapsed": false
   },
   "outputs": [],
   "source": [
    "with open('graph.gml', 'w') as f:\n",
    "    f.writelines(\"<?xml version=\\\"1.0\\\" encoding=\\\"UTF-8\\\"?>\\n\")\n",
    "    f.writelines(\"<graphml>\\n\")\n",
    "    f.writelines(\"<graph id=\\\"G\\\" edgedefault=\\\"undirected\\\">\\n\")\n",
    "    for co in tick2comp.keys():\n",
    "        f.writelines(\"<node id=\\\"\" + co + \"\\\">\\n\")\n",
    "        f.writelines(\"<data key=\\\"type\\\">company</data>\\n\")\n",
    "        f.writelines(\"</node>\\n\")\n",
    "    for person in allPeople:\n",
    "        f.writelines(\"<node id=\\\"\" + person + \"\\\">\\n\")\n",
    "        f.writelines(\"<data key=\\\"type\\\">person</data>\\n\")\n",
    "        f.writelines(\"</node>\\n\")\n",
    "    edgeIDCounter = 0\n",
    "    for key in company_company.keys():\n",
    "        source, target = key.split(\"_\")\n",
    "        f.writelines(\"<edge id=\\\"\" + str(edgeIDCounter) +\\\n",
    "                     \"\\\" source=\\\"\" + source + \"\\\" target=\\\"\" \\\n",
    "                     + target + \"\\\">\\n\")\n",
    "        f.writelines(\"<data key=\\\"weight\\\">\" +\\\n",
    "                     str(company_company[key]) + \"</data>\\n\")\n",
    "        f.writelines(\"</edge>\\n\")\n",
    "        edgeIDCounter += 1\n",
    "    for key in company_people.keys():\n",
    "        source, target = key.split(\"_\")\n",
    "        f.writelines(\"<edge id=\\\"\" + str(edgeIDCounter) +\\\n",
    "                     \"\\\" source=\\\"\" + source + \"\\\" target=\\\"\" \\\n",
    "                     + target + \"\\\">\\n\")\n",
    "        f.writelines(\"<data key=\\\"weight\\\">\" +\\\n",
    "                     str(company_people[key]) + \"</data>\\n\")\n",
    "        f.writelines(\"</edge>\\n\")\n",
    "        edgeIDCounter += 1\n",
    "    for key in people_people.keys():\n",
    "        source, target = key.split(\"_\")\n",
    "        f.writelines(\"<edge id=\\\"\" + str(edgeIDCounter) +\\\n",
    "                     \"\\\" source=\\\"\" + source + \"\\\" target=\\\"\" \\\n",
    "                     + target + \"\\\">\\n\")\n",
    "        f.writelines(\"<data key=\\\"weight\\\">\" +\\\n",
    "                     str(people_people[key]) + \"</data>\\n\")\n",
    "        f.writelines(\"</edge>\\n\")\n",
    "        edgeIDCounter += 1\n",
    "    f.writelines(\"</graph>\")\n",
    "    f.writelines(\"</graphml>\")"
   ]
  },
  {
   "cell_type": "code",
   "execution_count": 9,
   "metadata": {
    "collapsed": false
   },
   "outputs": [],
   "source": [
    "with open('graph.json', 'w') as f:\n",
    "    f.writelines(\"{\\n\\t\\\"nodes\\\": [\")\n",
    "    writeComma = False\n",
    "    for co in tick2comp.keys():\n",
    "        if writeComma:\n",
    "            f.writelines(\",\\n\\t\\t\")\n",
    "        else:\n",
    "            f.writelines(\"\\n\\t\\t\")\n",
    "        f.writelines(\"{\\\"id\\\": \\\"\" + co + \"\\\", \\\"group\\\": 1}\")\n",
    "        writeComma = True\n",
    "    for person in allPeople:\n",
    "        f.writelines(\",\\n\\t\\t{\\\"id\\\": \\\"\" + person + \"\\\", \\\"group\\\": 2}\")\n",
    "    f.writelines(\"\\n\\t],\")\n",
    "    f.writelines(\"\\n\\t\\\"links\\\": [\")\n",
    "    edgeIDCounter = 0\n",
    "    writeComma = False\n",
    "    for key in company_company.keys():\n",
    "        source, target = key.split(\"_\")\n",
    "        if writeComma:\n",
    "            f.writelines(\",\\n\\t\\t\")\n",
    "        else:\n",
    "            f.writelines(\"\\n\\t\\t\")\n",
    "        f.writelines(\"{\\\"source\\\": \\\"\" + source +\\\n",
    "                     \"\\\", \\\"target\\\": \\\"\" \\\n",
    "                     + target + \"\\\", \\\"value\\\": \" +\\\n",
    "                     str(company_company[key]) +\\\n",
    "                     \", \\\"type\\\": \\\"company_company\\\"\" + \"}\")\n",
    "        writeComma = True\n",
    "        edgeIDCounter += 1\n",
    "    for key in company_people.keys():\n",
    "        source, target = key.split(\"_\")\n",
    "        f.writelines(\",\\n\\t\\t{\\\"source\\\": \\\"\" + source +\\\n",
    "                     \"\\\", \\\"target\\\": \\\"\" \\\n",
    "                     + target + \"\\\", \\\"value\\\": \" +\\\n",
    "                     str(company_people[key]) +\\\n",
    "                     \", \\\"type\\\": \\\"company_people\\\"\" + \"}\")\n",
    "        edgeIDCounter += 1\n",
    "    for key in people_people.keys():\n",
    "        source, target = key.split(\"_\")\n",
    "        f.writelines(\",\\n\\t\\t{\\\"source\\\": \\\"\" + source +\\\n",
    "                     \"\\\", \\\"target\\\": \\\"\" \\\n",
    "                     + target + \"\\\", \\\"value\\\": \" +\\\n",
    "                     str(people_people[key]) +\\\n",
    "                     \", \\\"type\\\": \\\"people_people\\\"\"  + \"}\")\n",
    "        edgeIDCounter += 1\n",
    "    f.writelines(\"\\n\\t]\\n}\")"
   ]
  },
  {
   "cell_type": "code",
   "execution_count": 16,
   "metadata": {
    "collapsed": false
   },
   "outputs": [],
   "source": [
    "with open('company_graph.json', 'w') as f:\n",
    "    f.writelines(\"{\\n\\t\\\"nodes\\\": [\")\n",
    "    writeComma = False\n",
    "    for co in tick2comp.keys():\n",
    "        if writeComma:\n",
    "            f.writelines(\",\\n\\t\\t\")\n",
    "        else:\n",
    "            f.writelines(\"\\n\\t\\t\")\n",
    "        f.writelines(\"{\\\"id\\\": \\\"\" + co + \"\\\", \\\"group\\\": 1}\")\n",
    "        writeComma = True\n",
    "    f.writelines(\"\\n\\t],\")\n",
    "    f.writelines(\"\\n\\t\\\"links\\\": [\")\n",
    "    writeComma = False\n",
    "    for key in company_company.keys():\n",
    "        source, target = key.split(\"_\")\n",
    "        if writeComma:\n",
    "            f.writelines(\",\\n\\t\\t\")\n",
    "        else:\n",
    "            f.writelines(\"\\n\\t\\t\")\n",
    "        f.writelines(\"{\\\"source\\\": \\\"\" + source +\\\n",
    "                     \"\\\", \\\"target\\\": \\\"\" \\\n",
    "                     + target + \"\\\", \\\"value\\\": \" +\\\n",
    "                     str(company_company[key]) + \"}\")\n",
    "        writeComma = True\n",
    "    f.writelines(\"\\n\\t]\\n}\")"
   ]
  },
  {
   "cell_type": "code",
   "execution_count": 10,
   "metadata": {
    "collapsed": false
   },
   "outputs": [],
   "source": [
    "with open('graph.graphml', 'w') as f:\n",
    "    f.writelines(\"<?xml version=\\\"1.0\\\" encoding=\\\"UTF-8\\\"?>\\n\")\n",
    "    f.writelines(\"<graphml>\\n\")\n",
    "    f.writelines(\"<key id='weight' for='edge' attr.name='weight' attr.type='int'/>\")\n",
    "    f.writelines(\"<key id='type' for='node' attr.name='type' attr.type='string'/>\")\n",
    "    f.writelines(\"<graph id=\\\"G\\\" edgedefault=\\\"undirected\\\">\\n\")\n",
    "    for co in tick2comp.keys():\n",
    "        f.writelines(\"<node id=\\\"\" + co + \"\\\">\\n\")\n",
    "        f.writelines(\"<data key=\\\"type\\\">company</data>\\n\")\n",
    "        f.writelines(\"</node>\\n\")\n",
    "    for person in allPeople:\n",
    "        f.writelines(\"<node id=\\\"\" + person + \"\\\">\\n\")\n",
    "        f.writelines(\"<data key=\\\"type\\\">person</data>\\n\")\n",
    "        f.writelines(\"</node>\\n\")\n",
    "    edgeIDCounter = 0\n",
    "    for key in company_company.keys():\n",
    "        source, target = key.split(\"_\")\n",
    "        f.writelines(\"<edge id=\\\"\" + str(edgeIDCounter) +\\\n",
    "                     \"\\\" source=\\\"\" + source + \"\\\" target=\\\"\" \\\n",
    "                     + target + \"\\\">\\n\")\n",
    "        f.writelines(\"<data key=\\\"weight\\\">\" +\\\n",
    "                     str(company_company[key]) + \"</data>\\n\")\n",
    "        f.writelines(\"</edge>\\n\")\n",
    "        edgeIDCounter += 1\n",
    "    for key in company_people.keys():\n",
    "        source, target = key.split(\"_\")\n",
    "        f.writelines(\"<edge id=\\\"\" + str(edgeIDCounter) +\\\n",
    "                     \"\\\" source=\\\"\" + source + \"\\\" target=\\\"\" \\\n",
    "                     + target + \"\\\">\\n\")\n",
    "        f.writelines(\"<data key=\\\"weight\\\">\" +\\\n",
    "                     str(company_people[key]) + \"</data>\\n\")\n",
    "        f.writelines(\"</edge>\\n\")\n",
    "        edgeIDCounter += 1\n",
    "    for key in people_people.keys():\n",
    "        source, target = key.split(\"_\")\n",
    "        f.writelines(\"<edge id=\\\"\" + str(edgeIDCounter) +\\\n",
    "                     \"\\\" source=\\\"\" + source + \"\\\" target=\\\"\" \\\n",
    "                     + target + \"\\\">\\n\")\n",
    "        f.writelines(\"<data key=\\\"weight\\\">\" +\\\n",
    "                     str(people_people[key]) + \"</data>\\n\")\n",
    "        f.writelines(\"</edge>\\n\")\n",
    "        edgeIDCounter += 1\n",
    "    f.writelines(\"</graph>\")\n",
    "    f.writelines(\"</graphml>\")"
   ]
  }
 ],
 "metadata": {
  "kernelspec": {
   "display_name": "Python 3",
   "language": "python",
   "name": "python3"
  },
  "language_info": {
   "codemirror_mode": {
    "name": "ipython",
    "version": 3
   },
   "file_extension": ".py",
   "mimetype": "text/x-python",
   "name": "python",
   "nbconvert_exporter": "python",
   "pygments_lexer": "ipython3",
   "version": "3.6.0"
  }
 },
 "nbformat": 4,
 "nbformat_minor": 2
}
